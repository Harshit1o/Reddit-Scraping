{
 "cells": [
  {
   "cell_type": "code",
   "execution_count": 1,
   "metadata": {},
   "outputs": [],
   "source": [
    "from moviepy.editor import *"
   ]
  },
  {
   "cell_type": "code",
   "execution_count": 2,
   "metadata": {},
   "outputs": [
    {
     "name": "stdout",
     "output_type": "stream",
     "text": [
      "Moviepy - Building video final_video.mp4.\n",
      "MoviePy - Writing audio in final_videoTEMP_MPY_wvf_snd.mp3\n"
     ]
    },
    {
     "name": "stderr",
     "output_type": "stream",
     "text": [
      "                                                                   \r"
     ]
    },
    {
     "name": "stdout",
     "output_type": "stream",
     "text": [
      "MoviePy - Done.\n",
      "Moviepy - Writing video final_video.mp4\n",
      "\n"
     ]
    },
    {
     "name": "stderr",
     "output_type": "stream",
     "text": [
      "                                                                 \r"
     ]
    },
    {
     "name": "stdout",
     "output_type": "stream",
     "text": [
      "Moviepy - Done !\n",
      "Moviepy - video ready final_video.mp4\n"
     ]
    }
   ],
   "source": [
    "video_file = VideoFileClip(\"video.mp4\")\n",
    "audio_file = AudioFileClip(\"welcome.mp3\")\n",
    "final_video = video_file.set_audio(audio_file)\n",
    "final_video.write_videofile(\"final_video.mp4\")"
   ]
  },
  {
   "cell_type": "code",
   "execution_count": 3,
   "metadata": {},
   "outputs": [
    {
     "name": "stdout",
     "output_type": "stream",
     "text": [
      "Moviepy - Building video output_video_with_subtitles.mp4.\n",
      "MoviePy - Writing audio in output_video_with_subtitlesTEMP_MPY_wvf_snd.mp3\n"
     ]
    },
    {
     "name": "stderr",
     "output_type": "stream",
     "text": [
      "                                                                   \r"
     ]
    },
    {
     "name": "stdout",
     "output_type": "stream",
     "text": [
      "MoviePy - Done.\n",
      "Moviepy - Writing video output_video_with_subtitles.mp4\n",
      "\n"
     ]
    },
    {
     "name": "stderr",
     "output_type": "stream",
     "text": [
      "                                                                 \r"
     ]
    },
    {
     "name": "stdout",
     "output_type": "stream",
     "text": [
      "Moviepy - Done !\n",
      "Moviepy - video ready output_video_with_subtitles.mp4\n"
     ]
    }
   ],
   "source": [
    "# Create text clip with subtitles\n",
    "subtitles = TextClip(\"Welcome to the world of Python!\", fontsize=70, color='white', bg_color='black')\n",
    "subtitles = subtitles.set_position(('center', 'bottom')).set_duration(video_clip\n",
    "    .duration)\n",
    "\n",
    "\n",
    "# Overlay subtitles on video\n",
    "final_video = CompositeVideoClip([final_video, subtitles.set_position(('center', 'bottom'))])\n",
    "final_video.write_videofile(\"output_video_with_subtitles.mp4\", codec=\"libx264\")"
   ]
  },
  {
   "cell_type": "code",
   "execution_count": 20,
   "metadata": {},
   "outputs": [],
   "source": [
    "import pyttsx3\n",
    "engine = pyttsx3.init()\n",
    "engine.say(\"Welcome to the world of Python!\")\n",
    "# Save the audio to a file\n",
    "engine.save_to_file(\"\"\"Existentialist philosophers such as Jean-Paul Sartre, Martin Heidegger, and Søren Kierkegaard have extensively examined the nature of human existence and the challenges individuals face in navigating their existence authentically. Sartre, in his work \"Being and Nothingness,\" explores the concept of existential freedom and the anguish that accompanies the realization of absolute freedom. Heidegger, in \"Being and Time,\" delves into the idea of authenticity and the importance of confronting one's mortality in order to live an authentic existence. Kierkegaard, in his exploration of the individual's relationship with God and the concept of despair, highlights the existential significance of confronting one's deepest fears and uncertainties.\n",
    "\n",
    "Trauma, as a disruptive force in individuals' lives, has been examined through an existentialist lens by philosophers such as Viktor Frankl and Irvin Yalom. Frankl, in \"Man's Search for Meaning,\" reflects on his experiences as a Holocaust survivor and emphasizes the human capacity to find meaning even in the most extreme circumstances. Yalom, in his existential psychotherapy approach, explores how trauma can shatter individuals' sense of identity and challenge their existential assumptions about the world.\n",
    "\n",
    "Identity crises, characterized by a profound sense of disorientation and confusion about one's self-concept, have also been scrutinized by existentialist thinkers. From Kierkegaard's notion of the \"leap of faith\" to Sartre's concept of \"bad faith,\" existentialism offers insights into the ways in which individuals grapple with questions of identity and authenticity in the face of existential uncertainty.\"\"\", \"welcome2.mp3\")\n",
    "engine.runAndWait()\n"
   ]
  },
  {
   "cell_type": "code",
   "execution_count": 13,
   "metadata": {},
   "outputs": [
    {
     "ename": "FileNotFoundError",
     "evalue": "[Errno 2] No such file or directory: 'C:/Users/Dell/OneDrive/Desktop/MACHINE LEARNING/Reddit_Scrapingwelcome2.mp3'",
     "output_type": "error",
     "traceback": [
      "\u001b[1;31m---------------------------------------------------------------------------\u001b[0m",
      "\u001b[1;31mFileNotFoundError\u001b[0m                         Traceback (most recent call last)",
      "Input \u001b[1;32mIn [13]\u001b[0m, in \u001b[0;36m<cell line: 18>\u001b[1;34m()\u001b[0m\n\u001b[0;32m     12\u001b[0m     audio_chunks \u001b[38;5;241m=\u001b[39m split_on_silence(\n\u001b[0;32m     13\u001b[0m         long_audio, min_silence_len\u001b[38;5;241m=\u001b[39m\u001b[38;5;241m1800\u001b[39m,\n\u001b[0;32m     14\u001b[0m         silence_thresh\u001b[38;5;241m=\u001b[39m\u001b[38;5;241m-\u001b[39m\u001b[38;5;241m17\u001b[39m\n\u001b[0;32m     15\u001b[0m     )\n\u001b[0;32m     16\u001b[0m     \u001b[38;5;28;01mreturn\u001b[39;00m audio_chunks\n\u001b[1;32m---> 18\u001b[0m \u001b[38;5;28;01mfor\u001b[39;00m audio_chunk \u001b[38;5;129;01min\u001b[39;00m \u001b[43mload_chunks\u001b[49m\u001b[43m(\u001b[49m\u001b[38;5;124;43m'\u001b[39;49m\u001b[38;5;124;43mwelcome2.mp3\u001b[39;49m\u001b[38;5;124;43m'\u001b[39;49m\u001b[43m)\u001b[49m:\n\u001b[0;32m     19\u001b[0m     audio_chunk\u001b[38;5;241m.\u001b[39mexport(\u001b[38;5;124m\"\u001b[39m\u001b[38;5;124mtemp\u001b[39m\u001b[38;5;124m\"\u001b[39m, \u001b[38;5;28mformat\u001b[39m\u001b[38;5;241m=\u001b[39m\u001b[38;5;124m\"\u001b[39m\u001b[38;5;124mwav\u001b[39m\u001b[38;5;124m\"\u001b[39m)\n\u001b[0;32m     20\u001b[0m     \u001b[38;5;28;01mwith\u001b[39;00m sr\u001b[38;5;241m.\u001b[39mAudioFile(\u001b[38;5;124m\"\u001b[39m\u001b[38;5;124mtemp\u001b[39m\u001b[38;5;124m\"\u001b[39m) \u001b[38;5;28;01mas\u001b[39;00m source:\n",
      "Input \u001b[1;32mIn [13]\u001b[0m, in \u001b[0;36mload_chunks\u001b[1;34m(filename)\u001b[0m\n\u001b[0;32m      8\u001b[0m \u001b[38;5;28;01mdef\u001b[39;00m \u001b[38;5;21mload_chunks\u001b[39m(filename):\n\u001b[0;32m      9\u001b[0m     \u001b[38;5;66;03m# Specify the correct file path\u001b[39;00m\n\u001b[0;32m     10\u001b[0m     filepath \u001b[38;5;241m=\u001b[39m \u001b[38;5;124m\"\u001b[39m\u001b[38;5;124mC:/Users/Dell/OneDrive/Desktop/MACHINE LEARNING/Reddit_Scraping\u001b[39m\u001b[38;5;124m\"\u001b[39m \u001b[38;5;241m+\u001b[39m filename\n\u001b[1;32m---> 11\u001b[0m     long_audio \u001b[38;5;241m=\u001b[39m \u001b[43mAudioSegment\u001b[49m\u001b[38;5;241;43m.\u001b[39;49m\u001b[43mfrom_mp3\u001b[49m\u001b[43m(\u001b[49m\u001b[43mfilepath\u001b[49m\u001b[43m)\u001b[49m\n\u001b[0;32m     12\u001b[0m     audio_chunks \u001b[38;5;241m=\u001b[39m split_on_silence(\n\u001b[0;32m     13\u001b[0m         long_audio, min_silence_len\u001b[38;5;241m=\u001b[39m\u001b[38;5;241m1800\u001b[39m,\n\u001b[0;32m     14\u001b[0m         silence_thresh\u001b[38;5;241m=\u001b[39m\u001b[38;5;241m-\u001b[39m\u001b[38;5;241m17\u001b[39m\n\u001b[0;32m     15\u001b[0m     )\n\u001b[0;32m     16\u001b[0m     \u001b[38;5;28;01mreturn\u001b[39;00m audio_chunks\n",
      "File \u001b[1;32mc:\\Users\\Dell\\anaconda3\\lib\\site-packages\\pydub\\audio_segment.py:796\u001b[0m, in \u001b[0;36mAudioSegment.from_mp3\u001b[1;34m(cls, file, parameters)\u001b[0m\n\u001b[0;32m    794\u001b[0m \u001b[38;5;129m@classmethod\u001b[39m\n\u001b[0;32m    795\u001b[0m \u001b[38;5;28;01mdef\u001b[39;00m \u001b[38;5;21mfrom_mp3\u001b[39m(\u001b[38;5;28mcls\u001b[39m, file, parameters\u001b[38;5;241m=\u001b[39m\u001b[38;5;28;01mNone\u001b[39;00m):\n\u001b[1;32m--> 796\u001b[0m     \u001b[38;5;28;01mreturn\u001b[39;00m \u001b[38;5;28;43mcls\u001b[39;49m\u001b[38;5;241;43m.\u001b[39;49m\u001b[43mfrom_file\u001b[49m\u001b[43m(\u001b[49m\u001b[43mfile\u001b[49m\u001b[43m,\u001b[49m\u001b[43m \u001b[49m\u001b[38;5;124;43m'\u001b[39;49m\u001b[38;5;124;43mmp3\u001b[39;49m\u001b[38;5;124;43m'\u001b[39;49m\u001b[43m,\u001b[49m\u001b[43m \u001b[49m\u001b[43mparameters\u001b[49m\u001b[38;5;241;43m=\u001b[39;49m\u001b[43mparameters\u001b[49m\u001b[43m)\u001b[49m\n",
      "File \u001b[1;32mc:\\Users\\Dell\\anaconda3\\lib\\site-packages\\pydub\\audio_segment.py:651\u001b[0m, in \u001b[0;36mAudioSegment.from_file\u001b[1;34m(cls, file, format, codec, parameters, start_second, duration, **kwargs)\u001b[0m\n\u001b[0;32m    649\u001b[0m \u001b[38;5;28;01mexcept\u001b[39;00m \u001b[38;5;167;01mTypeError\u001b[39;00m:\n\u001b[0;32m    650\u001b[0m     filename \u001b[38;5;241m=\u001b[39m \u001b[38;5;28;01mNone\u001b[39;00m\n\u001b[1;32m--> 651\u001b[0m file, close_file \u001b[38;5;241m=\u001b[39m \u001b[43m_fd_or_path_or_tempfile\u001b[49m\u001b[43m(\u001b[49m\u001b[43mfile\u001b[49m\u001b[43m,\u001b[49m\u001b[43m \u001b[49m\u001b[38;5;124;43m'\u001b[39;49m\u001b[38;5;124;43mrb\u001b[39;49m\u001b[38;5;124;43m'\u001b[39;49m\u001b[43m,\u001b[49m\u001b[43m \u001b[49m\u001b[43mtempfile\u001b[49m\u001b[38;5;241;43m=\u001b[39;49m\u001b[38;5;28;43;01mFalse\u001b[39;49;00m\u001b[43m)\u001b[49m\n\u001b[0;32m    653\u001b[0m \u001b[38;5;28;01mif\u001b[39;00m \u001b[38;5;28mformat\u001b[39m:\n\u001b[0;32m    654\u001b[0m     \u001b[38;5;28mformat\u001b[39m \u001b[38;5;241m=\u001b[39m \u001b[38;5;28mformat\u001b[39m\u001b[38;5;241m.\u001b[39mlower()\n",
      "File \u001b[1;32mc:\\Users\\Dell\\anaconda3\\lib\\site-packages\\pydub\\utils.py:60\u001b[0m, in \u001b[0;36m_fd_or_path_or_tempfile\u001b[1;34m(fd, mode, tempfile)\u001b[0m\n\u001b[0;32m     57\u001b[0m     close_fd \u001b[38;5;241m=\u001b[39m \u001b[38;5;28;01mTrue\u001b[39;00m\n\u001b[0;32m     59\u001b[0m \u001b[38;5;28;01mif\u001b[39;00m \u001b[38;5;28misinstance\u001b[39m(fd, basestring):\n\u001b[1;32m---> 60\u001b[0m     fd \u001b[38;5;241m=\u001b[39m \u001b[38;5;28;43mopen\u001b[39;49m\u001b[43m(\u001b[49m\u001b[43mfd\u001b[49m\u001b[43m,\u001b[49m\u001b[43m \u001b[49m\u001b[43mmode\u001b[49m\u001b[38;5;241;43m=\u001b[39;49m\u001b[43mmode\u001b[49m\u001b[43m)\u001b[49m\n\u001b[0;32m     61\u001b[0m     close_fd \u001b[38;5;241m=\u001b[39m \u001b[38;5;28;01mTrue\u001b[39;00m\n\u001b[0;32m     63\u001b[0m \u001b[38;5;28;01mtry\u001b[39;00m:\n",
      "\u001b[1;31mFileNotFoundError\u001b[0m: [Errno 2] No such file or directory: 'C:/Users/Dell/OneDrive/Desktop/MACHINE LEARNING/Reddit_Scrapingwelcome2.mp3'"
     ]
    }
   ],
   "source": [
    "import os \n",
    "from pydub import AudioSegment\n",
    "import speech_recognition as sr\n",
    "from pydub.silence import split_on_silence\n",
    "\n",
    "recognizer = sr.Recognizer()\n",
    "\n",
    "def load_chunks(filename):\n",
    "    # Specify the correct file path\n",
    "    filepath = \"C:/Users/Dell/OneDrive/Desktop/MACHINE LEARNING/Reddit_Scraping\" + filename\n",
    "    long_audio = AudioSegment.from_mp3(filepath)\n",
    "    audio_chunks = split_on_silence(\n",
    "        long_audio, min_silence_len=1800,\n",
    "        silence_thresh=-17\n",
    "    )\n",
    "    return audio_chunks\n",
    "\n",
    "for audio_chunk in load_chunks('welcome2.mp3'):\n",
    "    audio_chunk.export(\"temp\", format=\"wav\")\n",
    "    with sr.AudioFile(\"temp\") as source:\n",
    "        audio = recognizer.listen(source)\n",
    "        try:\n",
    "            text = recognizer.recognize_google(audio)\n",
    "            print(\"Chunk : {}\".format(text))\n",
    "        except Exception as ex:\n",
    "            print(\"Error occured\")\n",
    "            print(ex)\n",
    "\n",
    "print(\"++++++\")"
   ]
  },
  {
   "cell_type": "code",
   "execution_count": null,
   "metadata": {},
   "outputs": [],
   "source": []
  }
 ],
 "metadata": {
  "kernelspec": {
   "display_name": "base",
   "language": "python",
   "name": "python3"
  },
  "language_info": {
   "codemirror_mode": {
    "name": "ipython",
    "version": 3
   },
   "file_extension": ".py",
   "mimetype": "text/x-python",
   "name": "python",
   "nbconvert_exporter": "python",
   "pygments_lexer": "ipython3",
   "version": "3.9.12"
  }
 },
 "nbformat": 4,
 "nbformat_minor": 2
}
